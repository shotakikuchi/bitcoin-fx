{
 "cells": [
  {
   "cell_type": "markdown",
   "metadata": {},
   "source": [
    "# MACD\n",
    "参考URL : http://www.algo-fx-blog.com/macd-python-technical-indicators/"
   ]
  },
  {
   "cell_type": "code",
   "execution_count": 18,
   "metadata": {},
   "outputs": [],
   "source": [
    "import time\n",
    "import datetime\n",
    "\n",
    "import pandas as pd \n",
    "from matplotlib import pyplot as plt\n",
    "import seaborn as sns\n",
    "\n",
    "sns.set_style('darkgrid')"
   ]
  },
  {
   "cell_type": "markdown",
   "metadata": {},
   "source": [
    "## Scraping datasets from coin market cap"
   ]
  },
  {
   "cell_type": "code",
   "execution_count": 28,
   "metadata": {},
   "outputs": [
    {
     "data": {
      "text/plain": [
       "'20180805'"
      ]
     },
     "execution_count": 28,
     "metadata": {},
     "output_type": "execute_result"
    }
   ],
   "source": [
    "time.strftime(\"%Y%m%d\")"
   ]
  },
  {
   "cell_type": "code",
   "execution_count": 27,
   "metadata": {},
   "outputs": [
    {
     "data": {
      "text/html": [
       "<div>\n",
       "<style>\n",
       "    .dataframe thead tr:only-child th {\n",
       "        text-align: right;\n",
       "    }\n",
       "\n",
       "    .dataframe thead th {\n",
       "        text-align: left;\n",
       "    }\n",
       "\n",
       "    .dataframe tbody tr th {\n",
       "        vertical-align: top;\n",
       "    }\n",
       "</style>\n",
       "<table border=\"1\" class=\"dataframe\">\n",
       "  <thead>\n",
       "    <tr style=\"text-align: right;\">\n",
       "      <th></th>\n",
       "      <th>Date</th>\n",
       "      <th>Open*</th>\n",
       "      <th>High</th>\n",
       "      <th>Low</th>\n",
       "      <th>Close**</th>\n",
       "      <th>Volume</th>\n",
       "      <th>Market Cap</th>\n",
       "    </tr>\n",
       "  </thead>\n",
       "  <tbody>\n",
       "    <tr>\n",
       "      <th>0</th>\n",
       "      <td>2018-08-04</td>\n",
       "      <td>7438.67</td>\n",
       "      <td>7497.49</td>\n",
       "      <td>6984.07</td>\n",
       "      <td>7032.85</td>\n",
       "      <td>4268390000</td>\n",
       "      <td>127859350021</td>\n",
       "    </tr>\n",
       "    <tr>\n",
       "      <th>1</th>\n",
       "      <td>2018-08-03</td>\n",
       "      <td>7562.14</td>\n",
       "      <td>7562.14</td>\n",
       "      <td>7328.65</td>\n",
       "      <td>7434.39</td>\n",
       "      <td>4627150000</td>\n",
       "      <td>129965898111</td>\n",
       "    </tr>\n",
       "    <tr>\n",
       "      <th>2</th>\n",
       "      <td>2018-08-02</td>\n",
       "      <td>7634.19</td>\n",
       "      <td>7712.77</td>\n",
       "      <td>7523.44</td>\n",
       "      <td>7567.15</td>\n",
       "      <td>4214110000</td>\n",
       "      <td>131189721712</td>\n",
       "    </tr>\n",
       "    <tr>\n",
       "      <th>3</th>\n",
       "      <td>2018-08-01</td>\n",
       "      <td>7769.04</td>\n",
       "      <td>7769.04</td>\n",
       "      <td>7504.95</td>\n",
       "      <td>7624.91</td>\n",
       "      <td>4797620000</td>\n",
       "      <td>133492645169</td>\n",
       "    </tr>\n",
       "    <tr>\n",
       "      <th>4</th>\n",
       "      <td>2018-07-31</td>\n",
       "      <td>8181.20</td>\n",
       "      <td>8181.53</td>\n",
       "      <td>7696.93</td>\n",
       "      <td>7780.44</td>\n",
       "      <td>5287530000</td>\n",
       "      <td>140559547538</td>\n",
       "    </tr>\n",
       "  </tbody>\n",
       "</table>\n",
       "</div>"
      ],
      "text/plain": [
       "        Date    Open*     High      Low  Close**      Volume    Market Cap\n",
       "0 2018-08-04  7438.67  7497.49  6984.07  7032.85  4268390000  127859350021\n",
       "1 2018-08-03  7562.14  7562.14  7328.65  7434.39  4627150000  129965898111\n",
       "2 2018-08-02  7634.19  7712.77  7523.44  7567.15  4214110000  131189721712\n",
       "3 2018-08-01  7769.04  7769.04  7504.95  7624.91  4797620000  133492645169\n",
       "4 2018-07-31  8181.20  8181.53  7696.93  7780.44  5287530000  140559547538"
      ]
     },
     "execution_count": 27,
     "metadata": {},
     "output_type": "execute_result"
    }
   ],
   "source": [
    "bitcoin = pd.read_html(\"https://coinmarketcap.com/currencies/bitcoin/historical-data/?start=20170101&end=\"+time.strftime(\"%Y%m%d\"))[0] \n",
    "bitcoin = bitcoin.assign(Date=pd.to_datetime(bitcoin['Date'])) \n",
    "bitcoin['Volume'] = bitcoin['Volume'].astype('int64') \n",
    "bitcoin.head()"
   ]
  },
  {
   "cell_type": "markdown",
   "metadata": {},
   "source": [
    "## Calculate MACD"
   ]
  },
  {
   "cell_type": "code",
   "execution_count": 7,
   "metadata": {},
   "outputs": [
    {
     "data": {
      "text/html": [
       "<div>\n",
       "<style>\n",
       "    .dataframe thead tr:only-child th {\n",
       "        text-align: right;\n",
       "    }\n",
       "\n",
       "    .dataframe thead th {\n",
       "        text-align: left;\n",
       "    }\n",
       "\n",
       "    .dataframe tbody tr th {\n",
       "        vertical-align: top;\n",
       "    }\n",
       "</style>\n",
       "<table border=\"1\" class=\"dataframe\">\n",
       "  <thead>\n",
       "    <tr style=\"text-align: right;\">\n",
       "      <th></th>\n",
       "      <th>date</th>\n",
       "      <th>close</th>\n",
       "      <th>ema_12</th>\n",
       "      <th>ema_26</th>\n",
       "      <th>macd</th>\n",
       "      <th>signal</th>\n",
       "    </tr>\n",
       "  </thead>\n",
       "  <tbody>\n",
       "    <tr>\n",
       "      <th>0</th>\n",
       "      <td>2018-08-04</td>\n",
       "      <td>7032.85</td>\n",
       "      <td>7032.850000</td>\n",
       "      <td>7032.850000</td>\n",
       "      <td>0.000000</td>\n",
       "      <td>0.000000</td>\n",
       "    </tr>\n",
       "    <tr>\n",
       "      <th>1</th>\n",
       "      <td>2018-08-03</td>\n",
       "      <td>7434.39</td>\n",
       "      <td>7250.350833</td>\n",
       "      <td>7241.341923</td>\n",
       "      <td>9.008910</td>\n",
       "      <td>5.004950</td>\n",
       "    </tr>\n",
       "    <tr>\n",
       "      <th>2</th>\n",
       "      <td>2018-08-02</td>\n",
       "      <td>7567.15</td>\n",
       "      <td>7373.997621</td>\n",
       "      <td>7358.401602</td>\n",
       "      <td>15.596019</td>\n",
       "      <td>9.345552</td>\n",
       "    </tr>\n",
       "    <tr>\n",
       "      <th>3</th>\n",
       "      <td>2018-08-01</td>\n",
       "      <td>7624.91</td>\n",
       "      <td>7453.200853</td>\n",
       "      <td>7432.905704</td>\n",
       "      <td>20.295150</td>\n",
       "      <td>13.054766</td>\n",
       "    </tr>\n",
       "    <tr>\n",
       "      <th>4</th>\n",
       "      <td>2018-07-31</td>\n",
       "      <td>7780.44</td>\n",
       "      <td>7542.110560</td>\n",
       "      <td>7513.500340</td>\n",
       "      <td>28.610220</td>\n",
       "      <td>17.682161</td>\n",
       "    </tr>\n",
       "  </tbody>\n",
       "</table>\n",
       "</div>"
      ],
      "text/plain": [
       "        date    close       ema_12       ema_26       macd     signal\n",
       "0 2018-08-04  7032.85  7032.850000  7032.850000   0.000000   0.000000\n",
       "1 2018-08-03  7434.39  7250.350833  7241.341923   9.008910   5.004950\n",
       "2 2018-08-02  7567.15  7373.997621  7358.401602  15.596019   9.345552\n",
       "3 2018-08-01  7624.91  7453.200853  7432.905704  20.295150  13.054766\n",
       "4 2018-07-31  7780.44  7542.110560  7513.500340  28.610220  17.682161"
      ]
     },
     "execution_count": 7,
     "metadata": {},
     "output_type": "execute_result"
    }
   ],
   "source": [
    "macd = pd.DataFrame()\n",
    "macd['date'] = bitcoin['Date']\n",
    "macd['close'] = bitcoin['Close**']\n",
    "macd['ema_12'] = bitcoin['Close**'].ewm(span=12).mean()\n",
    "macd['ema_26'] = bitcoin['Close**'].ewm(span=26).mean()\n",
    "macd['macd'] = macd['ema_12'] - macd['ema_26']\n",
    "macd['signal'] = macd['macd'].ewm(span=9).mean()\n",
    "macd.head()"
   ]
  },
  {
   "cell_type": "markdown",
   "metadata": {},
   "source": [
    "## Plot bitcoin close valud and MACD"
   ]
  },
  {
   "cell_type": "code",
   "execution_count": 26,
   "metadata": {},
   "outputs": [
    {
     "data": {
      "image/png": "[encoded data removed]",
      "text/plain": [
       "<matplotlib.figure.Figure at 0x1132d2630>"
      ]
     },
     "metadata": {},
     "output_type": "display_data"
    }
   ],
   "source": [
    "fig, (ax1, ax2) = plt.subplots(2,1, gridspec_kw = {'height_ratios':[3, 1]}, figsize=(10, 5))\n",
    "ax1.plot(macd['date'].astype(datetime.datetime), macd['close'])\n",
    "ax1.grid(True)\n",
    "\n",
    "ax2.plot(macd['date'].astype(datetime.datetime), macd['macd'])\n",
    "ax2.plot(macd['date'].astype(datetime.datetime), macd['signal'])\n",
    "ax2.grid(True)\n",
    " \n",
    "fig.tight_layout()\n",
    "plt.show()"
   ]
  }
 ],
 "metadata": {
  "kernelspec": {
   "display_name": "Python 3",
   "language": "python",
   "name": "python3"
  },
  "language_info": {
   "codemirror_mode": {
    "name": "ipython",
    "version": 3
   },
   "file_extension": ".py",
   "mimetype": "text/x-python",
   "name": "python",
   "nbconvert_exporter": "python",
   "pygments_lexer": "ipython3",
   "version": "3.5.3"
  }
 },
 "nbformat": 4,
 "nbformat_minor": 1
}
